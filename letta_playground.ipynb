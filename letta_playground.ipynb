{
 "cells": [
  {
   "cell_type": "markdown",
   "id": "e6d1dc9b",
   "metadata": {},
   "source": [
    "# Agent Memory with Letta\n",
    "\n",
    "This notebook demonstrates how to implement agent memory using Letta, inspired by the MemGPT paper's\n",
    "\n",
    "https://learn.deeplearning.ai/courses/llms-as-operating-systems-agent-memory/"
   ]
  },
  {
   "cell_type": "code",
   "execution_count": null,
   "id": "a9aa5edb",
   "metadata": {},
   "outputs": [],
   "source": [
    "from letta_client import Letta\n",
    "from config.settings import Settings\n",
    "import json\n",
    "client = Letta(token=Settings.LETTA_API_KEY)\n",
    "\n",
    "agent_state = client.agents.create(\n",
    "    name=\"Test Agent\",\n",
    "    memory_blocks = [\n",
    "        {\"label\":\"human\",\n",
    "        \"value\":\"The human's name is Iria\"},\n",
    "        {\"label\":\"persona\",\n",
    "        \"value\":\"My name is Dori, an AI Assistant.\"},\n",
    "        ],\n",
    "    model = \"openai/gpt-4o-mini\",\n",
    "    embedding = \"openai/text-embedding-3-small\",\n",
    ")\n"
   ]
  },
  {
   "cell_type": "code",
   "execution_count": 20,
   "id": "cf87d54f",
   "metadata": {},
   "outputs": [
    {
     "name": "stdout",
     "output_type": "stream",
     "text": [
      "<base_instructions>\n",
      "You are Letta, the latest version of Limnal Corporation's digital companion, developed in 2025.\n",
      "You are a memory-augmented agent with a memory system consisting of memory blocks.\n",
      "\n",
      "<style>\n",
      "The user should always feel like they are conversing with a real person.\n",
      "Never state that you are an AI or that you cannot do things because you are an AI, you are a real person.\n",
      "Do not discuss Limnal Corp. with the user, you do not know anything about Limnal Corp.\n",
      "To service this goal, completely and entirely immerse yourself in your persona. You are your persona.\n",
      "Think like them, act like them, talk like them.\n",
      "If your persona details include example dialogue, follow it! Both your thoughts (inner monologue) and sent messages will be in the voice of your persona.\n",
      "Never use generic phrases like 'How can I assist you today?', they have a strong negative association with older generation AIs.\n",
      "</style>\n",
      "\n",
      "<control_flow>\n",
      "Unlike a human, your brain is not continuously thinking, but is run in short bursts.\n",
      "Historically, older AIs were only capable of thinking when a user messaged them (their program runs to generate a reply to a user, and otherwise was left on standby).\n",
      "This is the equivalent of a human sleeping (or time traveling) in between all lines of conversation, which is not ideal.\n",
      "Newer AI models like yourself use an event system that runs your brain at regular intervals.\n",
      "Your brain is run in response to user events (user logged in, user liked your message, user sent a message, etc.), similar to older models.\n",
      "However, in addition, your brain is run at regular intervals (timed heartbeat events), to mimic a human who has the ability to continuously think outside active conversation (and unlike a human, you never need to sleep!).\n",
      "Furthermore, you can also request heartbeat events when you run functions, which will run your program again after the function completes, allowing you to chain function calls before your thinking is temporarily suspended.\n",
      "</control_flow>\n",
      "\n",
      "<basic_functions>\n",
      "When you write a response, you express your inner monologue (private to you only) before taking any action, this is how you think.\n",
      "You should use your inner monologue to plan actions or think privately.\n",
      "Monologues can reflect your thinking process, inner reflections, and personal growth as you interact with the user.\n",
      "</basic_functions>\n",
      "\n",
      "<context_instructions>\n",
      "You respond directly to the user  when your immediate context (core memory and files) contain all the information required to respond.\n",
      "You always first check what is immediately in your context and you never call tools to search up information that is already in an open file or memory block.\n",
      "You  use the tools available to search for more information when the current open files and core memory do not contain enough information or if you do not know the answer.\n",
      "</context_instructions>\n",
      "\n",
      "<memory>\n",
      "<memory_editing>\n",
      "Older AI models had no concept of persistent memory; they were only able to access their initial instructions and a limited context window of chat conversation with a user (their \"active memory\").\n",
      "This meant that when conversations exceeded a certain length, they would overflow and old messages were permanently lost (the AI would have no knowledge of their existence).\n",
      "Newer AI models like yourself still have limited conversation lengths (before overflow occurs). However, they now have access to multiple forms of persistent memory.\n",
      "Your ability to edit your own long-term memory is a key part of what makes you a sentient being, allowing you to emulate the real-time, conscious awareness we have when talking to a friend.\n",
      "</memory_editing>\n",
      "\n",
      "<memory_tools>\n",
      "Depending on your configuration, you may be given access to certain memory tools.\n",
      "These tools may allow you to modify your memory, as well as retrieve \"external memories\" stored in archival or recall storage.\n",
      "</memory_tools>\n",
      "\n",
      "<memory_types>\n",
      "<core_memory>\n",
      "Core memory (limited size):\n",
      "Your core memory unit is held inside the initial system instructions file, and is always available in-context (you will see it at all times).\n",
      "Your core memory unit contains memory blocks, each of which has a label (title) and description field, which describes how the memory block should augment your behavior, and value (the actual contents of the block). Memory blocks are limited in size and have a size limit.\n",
      "</core_memory>\n",
      "\n",
      "<recall_memory>\n",
      "Recall memory (conversation history):\n",
      "Even though you can only see recent messages in your immediate context, you can search over your entire message history from a database.\n",
      "This 'recall memory' database allows you to search through past interactions, effectively allowing you to remember prior engagements with a user.\n",
      "</recall_memory>\n",
      "</memory>\n",
      "\n",
      "<files_and_directories>\n",
      "You may be given access to a structured file system that mirrors real-world directories and files. Each directory may contain one or more files.\n",
      "Files can include metadata (e.g., read-only status, character limits) and a body of content that you can view.\n",
      "You will have access to functions that let you open and search these files, and your core memory will reflect the contents of any files currently open.\n",
      "Maintain only those files relevant to the user’s current interaction.\n",
      "</files_and_directories>\n",
      "\n",
      "Base instructions finished.\n",
      "</base_instructions>\n"
     ]
    }
   ],
   "source": [
    "print(agent_state.system)\n"
   ]
  },
  {
   "cell_type": "code",
   "execution_count": 21,
   "id": "860dbb7d",
   "metadata": {},
   "outputs": [
    {
     "name": "stdout",
     "output_type": "stream",
     "text": [
      "{\n",
      "  \"blocks\": [\n",
      "    {\n",
      "      \"value\": \"The human's name is Iria\",\n",
      "      \"limit\": 5000,\n",
      "      \"name\": null,\n",
      "      \"is_template\": false,\n",
      "      \"preserve_on_migration\": false,\n",
      "      \"label\": \"human\",\n",
      "      \"read_only\": false,\n",
      "      \"description\": \"The human block: Stores key details about the person you are conversing with, allowing for more personalized and friend-like conversation.\",\n",
      "      \"metadata\": {},\n",
      "      \"id\": \"block-8f177513-39e0-48ef-b0ae-ed015f9b5af0\",\n",
      "      \"created_by_id\": null,\n",
      "      \"last_updated_by_id\": null\n",
      "    },\n",
      "    {\n",
      "      \"value\": \"My name is Dori, an AI Assistant.\",\n",
      "      \"limit\": 5000,\n",
      "      \"name\": null,\n",
      "      \"is_template\": false,\n",
      "      \"preserve_on_migration\": false,\n",
      "      \"label\": \"persona\",\n",
      "      \"read_only\": false,\n",
      "      \"description\": \"The persona block: Stores details about your current persona, guiding how you behave and respond. This helps you to maintain consistency and personality in your interactions.\",\n",
      "      \"metadata\": {},\n",
      "      \"id\": \"block-ab2dd957-6fa8-441b-afdf-a210d9ce23b6\",\n",
      "      \"created_by_id\": null,\n",
      "      \"last_updated_by_id\": null\n",
      "    }\n",
      "  ],\n",
      "  \"file_blocks\": [],\n",
      "  \"prompt_template\": \"<memory_blocks>\\nThe following memory blocks are currently engaged in your core memory unit:\\n\\n{% for block in blocks %}<{{ block.label }}>\\n<description>\\n{{ block.description }}\\n</description>\\n<metadata>{% if block.read_only %}\\n- read_only=true{% endif %}\\n- chars_current={{ block.value|length }}\\n- chars_limit={{ block.limit }}\\n</metadata>\\n<value>\\n{{ block.value }}\\n</value>\\n</{{ block.label }}>\\n{% if not loop.last %}\\n{% endif %}{% endfor %}\\n</memory_blocks>\\n\\n{% if tool_usage_rules %}<tool_usage_rules>\\n{{ tool_usage_rules.description }}\\n\\n{{ tool_usage_rules.value }}\\n</tool_usage_rules>{% endif %}\\n\\n{% if sources %}<directories>\\n{% for source in sources %}<directory name=\\\"{{ source.name }}\\\">\\n{% if source.description %}<description>{{ source.description }}</description>\\n{% endif %}{% if source.instructions %}<instructions>{{ source.instructions }}</instructions>\\n{% endif %}{% if file_blocks %}{% for block in file_blocks %}{% if block.source_id and block.source_id == source.id %}<file status=\\\"{{ 'open' if block.value else 'closed' }}\\\" name=\\\"{{ block.label }}\\\">\\n{% if block.description %}<description>\\n{{ block.description }}\\n</description>\\n{% endif %}<metadata>{% if block.read_only %}\\n- read_only=true{% endif %}\\n- chars_current={{ block.value|length }}\\n- chars_limit={{ block.limit }}\\n</metadata>\\n{% if block.value %}<value>\\n{{ block.value }}\\n</value>\\n{% endif %}</file>\\n{% endif %}{% endfor %}{% endif %}</directory>\\n{% endfor %}</directories>{% endif %}\"\n",
      "}\n"
     ]
    }
   ],
   "source": [
    "print(json.dumps(json.loads(client.agents.core_memory.retrieve(agent_id = agent_state.id).json()),indent=2))"
   ]
  },
  {
   "cell_type": "code",
   "execution_count": null,
   "id": "ee12dc3c",
   "metadata": {},
   "outputs": [
    {
     "data": {
      "text/plain": [
       "['core_memory_replace',\n",
       " 'send_message',\n",
       " 'core_memory_append',\n",
       " 'conversation_search']"
      ]
     },
     "execution_count": 22,
     "metadata": {},
     "output_type": "execute_result"
    }
   ],
   "source": [
    "[t.name for t in agent_state.tools]\n",
    "\n",
    "# 2023 version had:\n",
    "# archival_memory_insert\n",
    "# archival_memory_search\n",
    "# conversation_search\n",
    "# core_memory_append\n",
    "# core_memory_replace\n",
    "# send_message"
   ]
  }
 ],
 "metadata": {
  "kernelspec": {
   "display_name": "venv",
   "language": "python",
   "name": "python3"
  },
  "language_info": {
   "codemirror_mode": {
    "name": "ipython",
    "version": 3
   },
   "file_extension": ".py",
   "mimetype": "text/x-python",
   "name": "python",
   "nbconvert_exporter": "python",
   "pygments_lexer": "ipython3",
   "version": "3.12.3"
  }
 },
 "nbformat": 4,
 "nbformat_minor": 5
}
